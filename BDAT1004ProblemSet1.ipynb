{
 "cells": [
  {
   "cell_type": "markdown",
   "id": "24a05d21-4d4f-48ba-845a-427b67fd2e59",
   "metadata": {},
   "source": [
    "## QUESTION 1\n",
    "\n",
    "##### What data type is each of the following (evaluate where necessary)? \n",
    "\n",
    "- 5\n",
    "- 5.0\n",
    "- 5 > 1\n",
    "- '5'\n",
    "- 5 * 2\n",
    "- '5' * 2\n",
    "- '5' + '2'\n",
    "- 5 / 2\n",
    "- 5 % 2\n",
    "- {5, 2, 1}\n",
    "- 5 == 3\n",
    "- Pi (the number)"
   ]
  },
  {
   "cell_type": "markdown",
   "id": "e231868f-1489-45ff-ba23-d42d67ff4ded",
   "metadata": {},
   "source": [
    "## SOLUTION\n",
    "|Value              | Data Type                                                                              |                \n",
    "| :---              |-----------------:                                                                      |          \n",
    "| 5                 | int  (Integer)                                                                         | \n",
    "| 5.0               | float                                                                                  |  \n",
    "| 5 > 1             | bool  (Boolean)                                                                        |  \n",
    "| '5'               | str   (String)                                                                         |  \n",
    "| 5 * 2             | int  (Integer)                                                                         |   \n",
    "| '5' * 2           | str   (String)                                                                         |  \n",
    "| '5' + '2'         | str   (String)                                                                         | \n",
    "| 5 / 2             | float                                                                                  |\n",
    "| 5 % 2             | int  (Integer)                                                                         |\n",
    "| {5, 2, 1}         | list                                                                                   |  \n",
    "| 5 == 3            | bool  (Boolean)                                                                        |\n",
    "| Pi (the number)   | float                                                                                  |"
   ]
  },
  {
   "cell_type": "markdown",
   "id": "de4c5b34-bc95-4625-9531-fa4eea5467d0",
   "metadata": {},
   "source": [
    "## QUESTION 2\n",
    "\n",
    "#### Write (and evaluate) python expressions that answer these questions:\n",
    "\n",
    "- a. How many letters are there in **'Supercalifragilisticexpialidocios'**?\n",
    "\n",
    "- b. Does **'Supercalifragilisticexpialidocious'** contain **'ice'** as a substring?\n",
    "\n",
    "- c. Which of the following words is the longest: SSupercalifragilisticexpialidocious, Honorificabilitudinitatibus, or Bababadalgharaghtakamminarronnkonn?\n",
    "  \n",
    "- d. Which composer comes first in the dictionary: 'Berlioz', 'Borodin', 'Bria', 'Bartok', 'Bellini', 'Buxtehude', 'Bernstein'. Which comes last?"
   ]
  },
  {
   "cell_type": "code",
   "execution_count": 28,
   "id": "55582e20-7fc7-4c8f-b265-b099b5cf2952",
   "metadata": {},
   "outputs": [
    {
     "name": "stdout",
     "output_type": "stream",
     "text": [
      "34\n",
      "True\n",
      "Supercalifragilisticexpialidocious\n",
      "First composer in the given list is: Bartok\n",
      "Last composer in the given list is: Buxtehude\n"
     ]
    }
   ],
   "source": [
    "# a. Number of letters in the given word\n",
    "word = 'Supercalifragilisticexpialidocious'\n",
    "print(len(word))\n",
    "\n",
    "# b. Checking given list of words for the word 'ice'\n",
    "containsIce = 'ice' in 'Supercalifragilisticexpialidocious'\n",
    "print(containsIce)\n",
    "\n",
    "# c. Longest word in the given list of words\n",
    "words = [\n",
    "    'Supercalifragilisticexpialidocious', \n",
    "    'Honorificabilitudinitatibus', \n",
    "    'Bababadalgharaghtakamminarronnkonn'\n",
    "]\n",
    "\n",
    "# Initialize variable to store the longest word\n",
    "longestWord = \"\"\n",
    "\n",
    "# Loop through the word list to find the longest\n",
    "for word in words:\n",
    "    if len(word) > len(longestWord):\n",
    "        longestWord = word\n",
    "\n",
    "print(longestWord)\n",
    "\n",
    "# d. First and last composer in dictionary from the given list\n",
    "\n",
    "# List of composers\n",
    "givenComposers = ['Berlioz', 'Borodin', 'Brian', 'Bartok', 'Bellini', 'Buxtehude', 'Bernstein']\n",
    "\n",
    " \n",
    "def bubbleSort(composers):\n",
    "    m = len(composers)\n",
    "    for i in range(m):\n",
    "        for j in range(0, m-i-1):\n",
    "            if composers[j] > composers[j+1]:\n",
    "                composers[j], composers[j+1] = composers[j+1], composers[j]\n",
    "    return composers\n",
    "\n",
    "# Sort the given composers list\n",
    "sortedComposers = bubbleSort(givenComposers)\n",
    "\n",
    "# First and last composer in the sorted list\n",
    "firstComposer = sortedComposers[0]\n",
    "lastComposer = sortedComposers[-1]\n",
    "\n",
    "# Print the first and last composer\n",
    "print(\"First composer in the given list is:\", firstComposer)\n",
    "print(\"Last composer in the given list is:\", lastComposer)"
   ]
  },
  {
   "cell_type": "markdown",
   "id": "ee0eddf5-ea73-48ae-bc8d-d4f455ca803d",
   "metadata": {},
   "source": [
    "## QUESTION 3\n",
    "\n",
    "##### Implement function triangleArea(a,b,c) that takes as input the lengths of the 3 sides of a triangle and returns the area of the triangle. \n",
    "##### By Heron's formula, the area of a triangle with side lengths a, b, and c is s(s - a)(s -b)(s -c), where s = (a +b + c) /2.\n",
    "\n",
    "- triangleArea(2,2,2)\n",
    "- 1.7320508075688772"
   ]
  },
  {
   "cell_type": "code",
   "execution_count": 124,
   "id": "1f227e7b-7087-46f0-8957-56bb82de9150",
   "metadata": {},
   "outputs": [
    {
     "name": "stdin",
     "output_type": "stream",
     "text": [
      "Enter length of side a:  2\n",
      "Enter length of side b:  2\n",
      "Enter length of side c:  2\n"
     ]
    },
    {
     "data": {
      "text/plain": [
       "1.7320508075688772"
      ]
     },
     "execution_count": 124,
     "metadata": {},
     "output_type": "execute_result"
    }
   ],
   "source": [
    "# SOLUTION\n",
    "\n",
    "import math\n",
    "\n",
    "def triangleArea():\n",
    " # Input the lengths of the sides of the triangle\n",
    "    a = float(input(\"Enter length of side a: \"))\n",
    "    b = float(input(\"Enter length of side b: \"))\n",
    "    c = float(input(\"Enter length of side c: \"))\n",
    "    \n",
    "    # Semi-perimeter calculation\n",
    "    s = (a + b + c) / 2\n",
    "    \n",
    "    # Area calculation using Heron's formula \n",
    "    area = math.sqrt(s * (s - a) * (s - b) * (s - c))\n",
    "    \n",
    "    return area\n",
    "    \n",
    "#Calling the function to return calculated area of triangle    \n",
    "triangleArea()"
   ]
  },
  {
   "cell_type": "markdown",
   "id": "be946b25-4307-4e4c-a01f-ac40b2f0abdc",
   "metadata": {},
   "source": [
    "## QUESTION 4\n",
    "\n",
    "##### Write a program in python to separate odd and even integers in separate arrays. Go to the editor\n",
    "\n",
    "**Test Data**\n",
    "\n",
    "Input the number of elements to be stored in the array :5\n",
    "\n",
    "Input 5 elements in the array :\n",
    "\n",
    "element - 0 : 25\n",
    "\n",
    "element - 1 : 47\n",
    "\n",
    "element - 2 : 42\n",
    "\n",
    "element - 3 : 56\n",
    "\n",
    "element - 4 : 32\n",
    "\n",
    "**Expected Output**\n",
    "\n",
    "**The Even elements are**\n",
    "\n",
    "42 56 32\n",
    "\n",
    "**The Odd elements are** \n",
    "\n",
    "25 47\n"
   ]
  },
  {
   "cell_type": "code",
   "execution_count": 122,
   "id": "d3c3b7bc-7c4d-467c-8c33-4a5491ac19ad",
   "metadata": {},
   "outputs": [
    {
     "name": "stdin",
     "output_type": "stream",
     "text": [
      "Enter the number of elements in the array:  5\n",
      "Enter element - 0 :  25\n",
      "Enter element - 1 :  47\n",
      "Enter element - 2 :  42\n",
      "Enter element - 3 :  56\n",
      "Enter element - 4 :  32\n"
     ]
    },
    {
     "name": "stdout",
     "output_type": "stream",
     "text": [
      "\n",
      "The Even elements are:\n",
      "42 56 32 \n",
      "\n",
      "The Odd elements are:\n",
      "25 47 "
     ]
    }
   ],
   "source": [
    "# Defining Function to separate odd and even numbers from the given list\n",
    "def separateEvenOdd():\n",
    "    # Input the number of elements to be stored in the array\n",
    "    n = int(input(\"Enter the number of elements in the array: \"))\n",
    "    \n",
    "    # Initialize arrays for even and odd numbers\n",
    "    evenNumbers = []\n",
    "    oddNumbers = []\n",
    "    \n",
    "    # Get and store the array elements entered into even and odd arrays\n",
    "    for i in range(n):\n",
    "        number = int(input(\"Enter element - {} : \".format(i)))\n",
    "        if number % 2 == 0:\n",
    "            evenNumbers.append(number)\n",
    "        else:\n",
    "            oddNumbers.append(number)\n",
    "    \n",
    "    # Print the even numbers\n",
    "    print(\"\\nThe Even elements are:\")\n",
    "    for number in evenNumbers:\n",
    "        print(number, end=' ')\n",
    "    \n",
    "    # Print the odd numbers\n",
    "    print(\"\\n\\nThe Odd elements are:\")\n",
    "    for number in oddNumbers:\n",
    "        print(number, end=' ')\n",
    "        \n",
    "# Call the function to print the odd and even numbers\n",
    "separateEvenOdd()"
   ]
  },
  {
   "cell_type": "markdown",
   "id": "4407b237-e088-4a43-8114-2f12167a1460",
   "metadata": {},
   "source": [
    "## QUESTION 5\n",
    "\n",
    "##### a. Write a function inside(x,y,x1,y1,x2,y2) that returns True or False depending on whether the point (x,y) lies in the rectangle with lower left \n",
    "\n",
    "##### corner (x1,y1) and upper right corner (x2,y2).\n",
    "\n",
    "+ inside(1,1,0,0,2,3):\n",
    "  \n",
    "  True\n",
    "+ inside(-1,-1,0,0,2,3):\n",
    "  \n",
    "  False\n",
    "\n",
    "##### b. Use function inside() from part a. to write an expression that tests whether the point (1,1) lies in both of the following rectangles: one \n",
    "\n",
    "##### with lower left corner (0.3, 0.5) and upper right corner (1.1, 0.7) and the other with lower left corner (0.5, 0.2) and upper right corner (1.1, 2)."
   ]
  },
  {
   "cell_type": "code",
   "execution_count": 142,
   "id": "caa980c9-84a3-4766-bc85-0f145be9dbab",
   "metadata": {},
   "outputs": [
    {
     "name": "stdin",
     "output_type": "stream",
     "text": [
      "Enter x-axis value:  1\n",
      "Enter y-axis value:  1\n",
      "Enter x-axis of the lower left corner:  0\n",
      "Enter y-axis of the lower left corner:  0\n",
      "Enter x-axis of the upper right corner:  2\n",
      "Enter y-axis of the upper right corner:  3\n"
     ]
    },
    {
     "name": "stdout",
     "output_type": "stream",
     "text": [
      "True\n",
      "False\n"
     ]
    }
   ],
   "source": [
    "# a. Function to check if given point lies inside a rectangle\n",
    "\n",
    "def inside(x, y, x1, y1, x2, y2):\n",
    "    return x1 <= x <= x2 and y1 <= y <= y2\n",
    "\n",
    "# Get the values for coordinate points\n",
    "x = float(input(\"Enter x-axis value: \"))\n",
    "y = float(input(\"Enter y-axis value: \"))\n",
    "\n",
    "# Get the rectangle corner values\n",
    "x1 = float(input(\"Enter x-axis of the lower left corner: \"))\n",
    "y1 = float(input(\"Enter y-axis of the lower left corner: \"))\n",
    "x2 = float(input(\"Enter x-axis of the upper right corner: \"))\n",
    "y2 = float(input(\"Enter y-axis of the upper right corner: \"))\n",
    "\n",
    "# Check if the given point is inside the rectangle\n",
    "if inside(x, y, x1, y1, x2, y2):\n",
    "    print(\"True\")\n",
    "else:\n",
    "    print(\"False\")\n",
    "\n",
    "# b. Using the above inside() function to test if the point (1, 1) lies in both rectangles:\n",
    "\n",
    "# Testing if point (1,1) lies in rectangle 1 and rectangle 2\n",
    "rectangle1 = inside(1, 1, 0.3, 0.5, 1.1, 0.7)\n",
    "rectangle2 = inside(1, 1, 0.5, 0.2, 1.1, 2)\n",
    "\n",
    "# Check if the point (1,1) is inside both rectangles\n",
    "print(rectangle1 and rectangle2)\n",
    "\n"
   ]
  },
  {
   "cell_type": "markdown",
   "id": "8015cd45-54a8-4f08-a61e-f8ea43931613",
   "metadata": {},
   "source": [
    "## QUESTION 6\n",
    "\n",
    "##### You can turn a word into pig-Latin using the following two rules (simplified):\n",
    "- If the word starts with a consonant, move that letter to the end and append 'ay'. For example, 'happy' becomes 'appyhay' and 'pencil' becomes 'encilpay'.\n",
    "- If the word starts with a vowel, somply append 'way' to the end of the word. For example 'enter' becomes 'enterway' and 'other' becomes 'otherway'.\n",
    "- For our purposes, there are 5 vowels: a,e,i,o,u (so we count y as a consonant).\n",
    "- Write a function pig() that takes a word (i.e., a string) as input ans returns its pig-Latin.\n",
    "- Your function should still work if the input word contains upper case characters. Your output should always be lower case however.\n",
    "\n",
    "  + pig('happy')\n",
    "\n",
    "    appyhay\n",
    "\n",
    "  + pig('enter')\n",
    "\n",
    "    enterway"
   ]
  },
  {
   "cell_type": "code",
   "execution_count": 144,
   "id": "15a6f782-9c6d-46f6-ab11-187fb67f82e6",
   "metadata": {},
   "outputs": [
    {
     "name": "stdin",
     "output_type": "stream",
     "text": [
      "Enter the word:  happy\n"
     ]
    },
    {
     "data": {
      "text/plain": [
       "'appyhay'"
      ]
     },
     "execution_count": 144,
     "metadata": {},
     "output_type": "execute_result"
    }
   ],
   "source": [
    "def pig(givenWord):\n",
    "    \n",
    "    givenWord = givenWord.lower()\n",
    "    \n",
    "    vowels = 'aeiou'\n",
    "    \n",
    "    # Check if the first letter is a vowel\n",
    "    if givenWord[0] in vowels:\n",
    "        return givenWord + 'way'\n",
    "    else:\n",
    "        return givenWord[1:] + givenWord[0] + 'ay'\n",
    "        \n",
    "givenWord = input(\"Enter the word: \")\n",
    "pig(givenWord)"
   ]
  },
  {
   "cell_type": "markdown",
   "id": "ccec47bc-8917-44b0-b0ba-0d06d5304eeb",
   "metadata": {},
   "source": [
    "## QUESTION 7\n",
    "\n",
    "##### File bloodtype1.txt records blood-types of patients (A, B, AB, O, OO) at a clinic. Write a function bldcount() that reads the file with name \n",
    "\n",
    "##### *name* and reports (i.e., prints) how many patients are there in each bloodtype.\n",
    "\n",
    "+ bldcout('bloodtype1.txt')\n",
    "\n",
    "  - There are 10 patients of blood type A.\n",
    "  - There is one patient of blood type B.\n",
    "  - There are 10 patients of blood type AB.\n",
    "  - There are 12 patients of blood type O.\n",
    "  - There are no patients of blood type OO.\n",
    "\n"
   ]
  },
  {
   "cell_type": "code",
   "execution_count": 148,
   "id": "5a3577ec-6e5f-4318-8feb-3facf8d54d1f",
   "metadata": {},
   "outputs": [
    {
     "name": "stdout",
     "output_type": "stream",
     "text": [
      "There are 10 patients of blood type A\n",
      "There is one patient of blood type B\n",
      "There are 10 patients of blood type AB\n",
      "There are 12 patients of blood type O\n",
      "There are no patients of blood type OO\n"
     ]
    }
   ],
   "source": [
    "def bldcount(name):\n",
    "    # Dictionary to store blood group counts\n",
    "    bloodTypes = {'A': 0, 'B': 0, 'AB': 0, 'O': 0, 'OO': 0}\n",
    "    file = open(name, 'r') \n",
    "    data = file.read().split()\n",
    "    \n",
    "    # Count occurrences of each blood group\n",
    "    for blood in data:\n",
    "        if blood in bloodTypes:\n",
    "            bloodTypes[blood] += 1\n",
    "    \n",
    "    # Print the results for each blood group\n",
    "    for blood, count in bloodTypes.items():\n",
    "        if count == 0:\n",
    "            print(\"There are no patients of blood type {}\".format(blood))\n",
    "        elif count == 1:\n",
    "            print(\"There is one patient of blood type {}\".format(blood))\n",
    "        else:\n",
    "            print(\"There are {} patients of blood type {}\".format(count, blood))\n",
    "\n",
    "# Calling the function to print the blood group count\n",
    "bldcount('bloodtype1.txt')"
   ]
  },
  {
   "cell_type": "markdown",
   "id": "30765e6d-082b-48f8-a008-966f9ca82d9b",
   "metadata": {},
   "source": [
    "## QUESTION 8\n",
    "\n",
    "#### Write a funtion curconv() that takes input:\n",
    "\n",
    "1. a currency represented using a string (e.g., 'JPY' for the Japanese Yen or 'EUR' for the Euro).\n",
    "   \n",
    "2. an amount and then converts and returns the amount in UD dollars.\n",
    "\n",
    "   - curconv('EUR', 100)\n",
    "\n",
    "     122.96544\n",
    "\n",
    "   - curconv('JPY', 100)\n",
    "\n",
    "     1.241401\n",
    "\n",
    "**The currency rates you will need are stored in file currencies.txt**\n",
    "\n",
    "- AUD 1.0345157 Australian Dollar\n",
    "- CHF 1.0237414 Swiss Franc\n",
    "- CNY 0.1550176 C\n",
    "- DKK 0.1651442 Danish Krone\n",
    "- EUR 1.2296544 Euro\n",
    "- GBP 1.5550989 British Pound\n",
    "- HKD 0.1270207 Hong Kong Dollar\n",
    "- INR 0.0177643 Indian Rupee\n",
    "- JPY 0.01241401 Japanese Yen\n",
    "- MXN 0.0751848 Mexican Peso\n",
    "- MYR 0.3145411 Malaysian Ringgit\n",
    "- NOK 0.1677063 Norwegian Krone\n",
    "- NZD 0.8003591 New Zealand Dollar\n",
    "- PHP 0.0233234 Philippine Peso\n",
    "- SEK 0.148269 Swedish Krona\n",
    "- SGD 0.788871 Singapore Dollar\n",
    "- THB 0.0313789 Thai Bahthinese Yuan\n",
    "     \n"
   ]
  },
  {
   "cell_type": "code",
   "execution_count": 150,
   "id": "0621a739-2988-47a2-937e-060c8ee826d3",
   "metadata": {},
   "outputs": [
    {
     "name": "stdout",
     "output_type": "stream",
     "text": [
      "122.96544\n",
      "1.241401\n"
     ]
    }
   ],
   "source": [
    "def curconv(currency, amount):\n",
    "    # Open the file and read the lines\n",
    "    currencyFile = open('currencies.txt', 'r') \n",
    "    for eachEntry in currencyFile:\n",
    "        currencyParts = eachEntry.split()\n",
    "        # Check if the currency code matches the input currency\n",
    "        if currencyParts[0] == currency:\n",
    "            # Convert the entered amount using the conversion rate in the file\n",
    "            rate = float(currencyParts[1])\n",
    "            return amount * rate\n",
    "    \n",
    "    # If the currency code not matches with code in file\n",
    "    return \"Currency not found\"\n",
    "\n",
    "# Calling the function and printing the converted rates\n",
    "print(curconv('EUR', 100))\n",
    "print(curconv('JPY', 100))  "
   ]
  },
  {
   "cell_type": "markdown",
   "id": "60bbed8a-fff6-4717-bcdf-6027313ae834",
   "metadata": {},
   "source": [
    "## QUESTION 9\n",
    "\n",
    "##### Each of the following will cause an exception (an error). Identify what type of exception each will cause.\n",
    "\n",
    "- Trying to add incompatible variables, as in adding 6 + ‘a’   \n",
    "\n",
    "- Referring to the 12th item of a list that has only 10 items  \n",
    "\n",
    "- Using a value that is out of range for a function’s input, such as calling math.sqrt( 1.0)  \n",
    "\n",
    "- Using an undeclared variable, such as print(x) when x has not been defined  \n",
    "\n",
    "- Trying to open a file that does not exist, such as mistyping the file name or looking in the wrong directory  \n"
   ]
  },
  {
   "cell_type": "markdown",
   "id": "296dcf5f-8ebb-42bd-9db2-72eeb4361b1a",
   "metadata": {},
   "source": [
    "## SOLUTION\n",
    "\n",
    "- Trying to add incompatible variables, as in adding 6 + ‘a’   -  **TypeError**\n",
    "\n",
    "- Referring to the 12th item of a list that has only 10 items  -  **IndexError**\n",
    "\n",
    "- Using a value that is out of range for a function’s input, such as calling math.sqrt( 1.0)  - **ValueError**\n",
    "\n",
    "- Using an undeclared variable, such as print(x) when x has not been defined  - **NameError**\n",
    "\n",
    "- Trying to open a file that does not exist, such as mistyping the file name or looking in the wrong directory  -  **FileNotFoundError** \n"
   ]
  },
  {
   "cell_type": "markdown",
   "id": "c8a56f23-c203-4df4-b301-0bbd1ad05db2",
   "metadata": {},
   "source": [
    "## QUESTION 10\n",
    "\n",
    "Encryption is the process of hiding the meaning of a text by substituting letters in the message with other letters, according to some system. If the\n",
    "\n",
    "process is successful, no one but the intended recipient can understand the encrypted message. Cryptanalysis refers to attempts to undo the encryption, \n",
    "\n",
    "even if some details of the encryption are unknown (for example, if an encrypted message has been intercepted). The first step of cryptanalysis is \n",
    "\n",
    "often to build up a table of letter frequencies in the encrypted text. Assume that the string letters is already defined as \n",
    "\n",
    "'abcdefghijklmnopqrstuvwxyz'. **Write a function called frequencies() that takes a string as its only parameter, and returns a list of integers, showing the number of times each character appears in the text. Your function may ignore any characters that are not in letters**\n",
    "\n",
    "- frequencies('The quick red fox got bored and went home.')\n",
    "\n",
    "  [1, 1, 1, 3 ,5 ,1 ,1 ,2 ,1 ,0 ,1 ,0 ,1 ,0 ,1 ,2 ,4 ,0 ,1 ,2 ,1 ,0 ,1 ,1 ,0 ,0]\n",
    "\n",
    "- frequencies('apple')"
   ]
  },
  {
   "cell_type": "code",
   "execution_count": 155,
   "id": "4ced241e-d573-4fc0-a803-17f40961a4f7",
   "metadata": {},
   "outputs": [
    {
     "name": "stdin",
     "output_type": "stream",
     "text": [
      "Enter the text to count the occurance of each letters:  apple\n"
     ]
    },
    {
     "data": {
      "text/plain": [
       "[1, 0, 0, 0, 1, 0, 0, 0, 0, 0, 0, 1, 0, 0, 0, 2, 0, 0, 0, 0, 0, 0, 0, 0, 0, 0]"
      ]
     },
     "execution_count": 155,
     "metadata": {},
     "output_type": "execute_result"
    }
   ],
   "source": [
    "def frequencies(inputText):\n",
    "    # Define the alphabets\n",
    "    alphabets = 'abcdefghijklmnopqrstuvwxyz'\n",
    "    \n",
    "    # Initialize a list of zeros as frequency of characters\n",
    "    frequencyList = [0] * len(alphabets)\n",
    "    \n",
    "    # Change the given text to lowercase to make the count case insensitive\n",
    "    inputText = inputText.lower()\n",
    "    \n",
    "    # Loop through each character in the text\n",
    "    for char in inputText:\n",
    "        if char in alphabets:\n",
    "            # Find the index of the input text character in the alphabet and increment its count\n",
    "            index = alphabets.index(char)\n",
    "            frequencyList[index] += 1\n",
    "    \n",
    "    return frequencyList\n",
    "\n",
    "givenText = input(\"Enter the text to count the occurance of each letters: \")\n",
    "\n",
    "# calling the function frequencies\n",
    "frequencies(givenText)  "
   ]
  },
  {
   "cell_type": "code",
   "execution_count": null,
   "id": "08240f4f-bab3-4316-b4da-e034984e87ef",
   "metadata": {},
   "outputs": [],
   "source": []
  }
 ],
 "metadata": {
  "kernelspec": {
   "display_name": "Python 3 (ipykernel)",
   "language": "python",
   "name": "python3"
  },
  "language_info": {
   "codemirror_mode": {
    "name": "ipython",
    "version": 3
   },
   "file_extension": ".py",
   "mimetype": "text/x-python",
   "name": "python",
   "nbconvert_exporter": "python",
   "pygments_lexer": "ipython3",
   "version": "3.12.4"
  }
 },
 "nbformat": 4,
 "nbformat_minor": 5
}
